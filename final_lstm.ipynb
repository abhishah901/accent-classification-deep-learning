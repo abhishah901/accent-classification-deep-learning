{
 "cells": [
  {
   "cell_type": "code",
   "execution_count": 1,
   "metadata": {},
   "outputs": [],
   "source": [
    "import os\n",
    "import numpy as np"
   ]
  },
  {
   "cell_type": "code",
   "execution_count": 2,
   "metadata": {},
   "outputs": [
    {
     "name": "stdout",
     "output_type": "stream",
     "text": [
      " \u001b[0m\u001b[01;34manaconda3\u001b[0m/        'mp3 to mfcc to npy.ipynb'                \u001b[01;34mTemplates\u001b[0m/\r\n",
      " \u001b[01;34mbaselines\u001b[0m/         \u001b[01;31mmujoco200_linux.zip\u001b[0m                      try_nohup.py\r\n",
      " core               \u001b[01;34mMusic\u001b[0m/                                   \u001b[01;34mVideos\u001b[0m/\r\n",
      " \u001b[01;34mDesktop\u001b[0m/           nohup.out                                \u001b[01;32mX_24k_20mfcc.npy\u001b[0m*\r\n",
      " \u001b[01;34mDocuments\u001b[0m/         part-1-data-exploration.ipynb            \u001b[01;32mX_all.npy\u001b[0m*\r\n",
      " \u001b[01;34mDownloads\u001b[0m/         part-2-extracting-audio-features.ipynb   \u001b[01;31mXandY.zip\u001b[0m\r\n",
      " examples.desktop   \u001b[01;34mPictures\u001b[0m/                                \u001b[01;32my_24k_20mfcc.npy\u001b[0m*\r\n",
      " \u001b[01;32mgetid_linux\u001b[0m*       \u001b[01;34mPublic\u001b[0m/                                  \u001b[01;32my_all.npy\u001b[0m*\r\n",
      " mfcc.ipynb        'simple lstm.ipynb'\r\n",
      " model1.ipynb       \u001b[01;34msnap\u001b[0m/\r\n"
     ]
    }
   ],
   "source": [
    "ls"
   ]
  },
  {
   "cell_type": "code",
   "execution_count": 3,
   "metadata": {},
   "outputs": [],
   "source": [
    "X = np.load('X_24k_20mfcc.npy')"
   ]
  },
  {
   "cell_type": "code",
   "execution_count": 4,
   "metadata": {},
   "outputs": [],
   "source": [
    "y = np.load('y_24k_20mfcc.npy')"
   ]
  },
  {
   "cell_type": "code",
   "execution_count": 24,
   "metadata": {
    "scrolled": true
   },
   "outputs": [],
   "source": [
    "# flatten X\n",
    "X_flat = X.reshape((1156,40*776)) # skip"
   ]
  },
  {
   "cell_type": "code",
   "execution_count": 25,
   "metadata": {},
   "outputs": [
    {
     "data": {
      "text/plain": [
       "(1156, 31040)"
      ]
     },
     "execution_count": 25,
     "metadata": {},
     "output_type": "execute_result"
    }
   ],
   "source": [
    "X_flat.shape  # skip"
   ]
  },
  {
   "cell_type": "code",
   "execution_count": 28,
   "metadata": {},
   "outputs": [
    {
     "data": {
      "text/plain": [
       "0.0"
      ]
     },
     "execution_count": 28,
     "metadata": {},
     "output_type": "execute_result"
    }
   ],
   "source": [
    "X_flat[0][12]  # skip"
   ]
  },
  {
   "cell_type": "code",
   "execution_count": 30,
   "metadata": {},
   "outputs": [
    {
     "data": {
      "text/plain": [
       "0.0"
      ]
     },
     "execution_count": 30,
     "metadata": {},
     "output_type": "execute_result"
    }
   ],
   "source": [
    "X[0][0][12]  # skip"
   ]
  },
  {
   "cell_type": "code",
   "execution_count": 31,
   "metadata": {},
   "outputs": [
    {
     "data": {
      "text/plain": [
       "(1156, 31040)"
      ]
     },
     "execution_count": 31,
     "metadata": {},
     "output_type": "execute_result"
    }
   ],
   "source": [
    "X_flat.shape  # skip"
   ]
  },
  {
   "cell_type": "code",
   "execution_count": 5,
   "metadata": {},
   "outputs": [
    {
     "data": {
      "text/plain": [
       "(1156, 40, 776)"
      ]
     },
     "execution_count": 5,
     "metadata": {},
     "output_type": "execute_result"
    }
   ],
   "source": [
    "X.shape"
   ]
  },
  {
   "cell_type": "code",
   "execution_count": 6,
   "metadata": {},
   "outputs": [
    {
     "data": {
      "text/plain": [
       "array([8, 8, 8, 8, 8, 8, 8, 8, 8, 8])"
      ]
     },
     "execution_count": 6,
     "metadata": {},
     "output_type": "execute_result"
    }
   ],
   "source": [
    "y[-10:]"
   ]
  },
  {
   "cell_type": "code",
   "execution_count": 7,
   "metadata": {},
   "outputs": [],
   "source": [
    "p = np.random.permutation(len(X))\n",
    "X =  X[p]\n",
    "y = y[p]\n",
    "# X_flat = X_flat[p]\n",
    "# y_flat = y_flat[p]"
   ]
  },
  {
   "cell_type": "code",
   "execution_count": 8,
   "metadata": {},
   "outputs": [
    {
     "data": {
      "text/plain": [
       "array([3, 0, 2, 3, 3, 5, 2, 3, 2, 4])"
      ]
     },
     "execution_count": 8,
     "metadata": {},
     "output_type": "execute_result"
    }
   ],
   "source": [
    "y[:10]"
   ]
  },
  {
   "cell_type": "code",
   "execution_count": 9,
   "metadata": {},
   "outputs": [
    {
     "data": {
      "text/plain": [
       "9"
      ]
     },
     "execution_count": 9,
     "metadata": {},
     "output_type": "execute_result"
    }
   ],
   "source": [
    "len(np.unique(y))"
   ]
  },
  {
   "cell_type": "code",
   "execution_count": 10,
   "metadata": {},
   "outputs": [],
   "source": [
    "import tensorflow as tf\n",
    "# from tf.keras.optimizers import SGD\n",
    "import sklearn\n",
    " \n",
    "# np.random.seed(1337)  # for reproducibility\n",
    "# import tf.keras.preprocessing.sequence # import sequence\n",
    "# import tf.keras.utils.np_utils # import np_utils\n",
    "# import tf.keras.models.Sequential # import Sequential\n",
    "# import tf.keras.layers.core.Dense # import Dense, Dropout, Activation\n",
    "# import tf.keras.layers.core.Dropout\n",
    "# import tf.keras.layers.core.Activation\n",
    "# import tf.keras.layers.recurrent.LSTM # import LSTM\n"
   ]
  },
  {
   "cell_type": "code",
   "execution_count": 11,
   "metadata": {},
   "outputs": [],
   "source": [
    "#one hot emcode the labels for the Dense Layer\n",
    "y = tf.keras.utils.to_categorical(y,len(np.unique(y)))"
   ]
  },
  {
   "cell_type": "code",
   "execution_count": 12,
   "metadata": {},
   "outputs": [
    {
     "data": {
      "text/plain": [
       "(1156, 9)"
      ]
     },
     "execution_count": 12,
     "metadata": {},
     "output_type": "execute_result"
    }
   ],
   "source": [
    "y.shape"
   ]
  },
  {
   "cell_type": "code",
   "execution_count": 13,
   "metadata": {},
   "outputs": [],
   "source": [
    "X_train = X[:750]\n",
    "y_train = y[:750]\n",
    "# X_tr_flat = X_flat[:750]"
   ]
  },
  {
   "cell_type": "code",
   "execution_count": 15,
   "metadata": {},
   "outputs": [],
   "source": [
    "X_val = X[650:850]\n",
    "y_val = y[650:850]"
   ]
  },
  {
   "cell_type": "code",
   "execution_count": 14,
   "metadata": {},
   "outputs": [],
   "source": [
    "X_test = X[750:]\n",
    "y_test = y[750:]\n",
    "# X_te_flat = X_flat[750:]"
   ]
  },
  {
   "cell_type": "code",
   "execution_count": 15,
   "metadata": {},
   "outputs": [],
   "source": [
    "from sklearn.metrics import confusion_matrix"
   ]
  },
  {
   "cell_type": "code",
   "execution_count": 16,
   "metadata": {},
   "outputs": [],
   "source": [
    "test_dim = 2999\n",
    "maxlen = 100\n",
    "batch_size = 64\n",
    "nb_filter = 64\n",
    "filter_length_1 = 50\n",
    "filter_length_2 = 25\n",
    "hidden_dims = 250\n",
    "nb_epoch = 8\n",
    "nb_classes = 3"
   ]
  },
  {
   "cell_type": "code",
   "execution_count": 17,
   "metadata": {
    "scrolled": true
   },
   "outputs": [
    {
     "name": "stdout",
     "output_type": "stream",
     "text": [
      "Model: \"sequential\"\n",
      "_________________________________________________________________\n",
      "Layer (type)                 Output Shape              Param #   \n",
      "=================================================================\n",
      "lstm (LSTM)                  (None, 40, 64)            215296    \n",
      "_________________________________________________________________\n",
      "batch_normalization (BatchNo (None, 40, 64)            256       \n",
      "_________________________________________________________________\n",
      "dropout (Dropout)            (None, 40, 64)            0         \n",
      "_________________________________________________________________\n",
      "lstm_1 (LSTM)                (None, 40, 32)            12416     \n",
      "_________________________________________________________________\n",
      "dropout_1 (Dropout)          (None, 40, 32)            0         \n",
      "_________________________________________________________________\n",
      "batch_normalization_1 (Batch (None, 40, 32)            128       \n",
      "_________________________________________________________________\n",
      "lstm_2 (LSTM)                (None, 16)                3136      \n",
      "_________________________________________________________________\n",
      "dropout_2 (Dropout)          (None, 16)                0         \n",
      "_________________________________________________________________\n",
      "dense (Dense)                (None, 9)                 153       \n",
      "=================================================================\n",
      "Total params: 231,385\n",
      "Trainable params: 231,193\n",
      "Non-trainable params: 192\n",
      "_________________________________________________________________\n",
      "Train...\n",
      "WARNING:tensorflow:The `nb_epoch` argument in `fit` has been renamed `epochs`.\n",
      "Train on 750 samples, validate on 406 samples\n",
      "Epoch 1/75\n",
      "750/750 [==============================] - 9s 11ms/sample - loss: 2.1305 - accuracy: 0.2400 - val_loss: 2.0526 - val_accuracy: 0.4975\n",
      "Epoch 2/75\n",
      "750/750 [==============================] - 2s 2ms/sample - loss: 1.8995 - accuracy: 0.4813 - val_loss: 1.7969 - val_accuracy: 0.5197\n",
      "Epoch 3/75\n",
      "750/750 [==============================] - 2s 2ms/sample - loss: 1.6990 - accuracy: 0.5400 - val_loss: 1.6303 - val_accuracy: 0.5591\n",
      "Epoch 4/75\n",
      "750/750 [==============================] - 2s 2ms/sample - loss: 1.5964 - accuracy: 0.5627 - val_loss: 1.6125 - val_accuracy: 0.5616\n",
      "Epoch 5/75\n",
      "750/750 [==============================] - 2s 2ms/sample - loss: 1.5717 - accuracy: 0.5840 - val_loss: 1.5866 - val_accuracy: 0.5714\n",
      "Epoch 6/75\n",
      "750/750 [==============================] - 2s 2ms/sample - loss: 1.5278 - accuracy: 0.5840 - val_loss: 1.5586 - val_accuracy: 0.5714\n",
      "Epoch 7/75\n",
      "750/750 [==============================] - 2s 2ms/sample - loss: 1.5158 - accuracy: 0.5893 - val_loss: 1.5439 - val_accuracy: 0.5714\n",
      "Epoch 8/75\n",
      "750/750 [==============================] - 2s 2ms/sample - loss: 1.5125 - accuracy: 0.5907 - val_loss: 1.5224 - val_accuracy: 0.5714\n",
      "Epoch 9/75\n",
      "750/750 [==============================] - 2s 2ms/sample - loss: 1.5038 - accuracy: 0.5920 - val_loss: 1.5130 - val_accuracy: 0.5714\n",
      "Epoch 10/75\n",
      "750/750 [==============================] - 2s 2ms/sample - loss: 1.4746 - accuracy: 0.5893 - val_loss: 1.5044 - val_accuracy: 0.5714\n",
      "Epoch 11/75\n",
      "750/750 [==============================] - 2s 2ms/sample - loss: 1.4589 - accuracy: 0.5920 - val_loss: 1.4995 - val_accuracy: 0.5714\n",
      "Epoch 12/75\n",
      "750/750 [==============================] - 2s 2ms/sample - loss: 1.4490 - accuracy: 0.5907 - val_loss: 1.4918 - val_accuracy: 0.5714\n",
      "Epoch 13/75\n",
      "750/750 [==============================] - 2s 2ms/sample - loss: 1.4464 - accuracy: 0.5907 - val_loss: 1.4855 - val_accuracy: 0.5714\n",
      "Epoch 14/75\n",
      "750/750 [==============================] - 2s 2ms/sample - loss: 1.4628 - accuracy: 0.5867 - val_loss: 1.4812 - val_accuracy: 0.5714\n",
      "Epoch 15/75\n",
      "750/750 [==============================] - 2s 2ms/sample - loss: 1.5648 - accuracy: 0.5587 - val_loss: 1.4813 - val_accuracy: 0.5714\n",
      "Epoch 16/75\n",
      "750/750 [==============================] - 2s 3ms/sample - loss: 1.4412 - accuracy: 0.5920 - val_loss: 1.4781 - val_accuracy: 0.5739\n",
      "Epoch 17/75\n",
      "750/750 [==============================] - 2s 2ms/sample - loss: 1.4602 - accuracy: 0.5907 - val_loss: 1.4818 - val_accuracy: 0.5714\n",
      "Epoch 18/75\n",
      "750/750 [==============================] - 1s 2ms/sample - loss: 1.4423 - accuracy: 0.5920 - val_loss: 1.4783 - val_accuracy: 0.5714\n",
      "Epoch 19/75\n",
      "750/750 [==============================] - 2s 2ms/sample - loss: 1.4285 - accuracy: 0.5920 - val_loss: 1.4778 - val_accuracy: 0.5714\n",
      "Epoch 20/75\n",
      "750/750 [==============================] - 3s 4ms/sample - loss: 1.4335 - accuracy: 0.5920 - val_loss: 1.4775 - val_accuracy: 0.5714\n",
      "Epoch 21/75\n",
      "750/750 [==============================] - 3s 4ms/sample - loss: 1.4501 - accuracy: 0.5893 - val_loss: 1.4747 - val_accuracy: 0.5714\n",
      "Epoch 22/75\n",
      "750/750 [==============================] - 3s 4ms/sample - loss: 1.4145 - accuracy: 0.5920 - val_loss: 1.4728 - val_accuracy: 0.5714\n",
      "Epoch 23/75\n",
      "750/750 [==============================] - 3s 4ms/sample - loss: 1.4222 - accuracy: 0.5920 - val_loss: 1.4739 - val_accuracy: 0.5714\n",
      "Epoch 24/75\n",
      "750/750 [==============================] - 3s 4ms/sample - loss: 1.4302 - accuracy: 0.5907 - val_loss: 1.4748 - val_accuracy: 0.5714\n",
      "Epoch 25/75\n",
      "750/750 [==============================] - 3s 4ms/sample - loss: 1.4364 - accuracy: 0.5920 - val_loss: 1.4757 - val_accuracy: 0.5714\n",
      "Epoch 26/75\n",
      "750/750 [==============================] - 3s 4ms/sample - loss: 1.4276 - accuracy: 0.5920 - val_loss: 1.4753 - val_accuracy: 0.5714\n",
      "Epoch 27/75\n",
      "750/750 [==============================] - 3s 4ms/sample - loss: 1.4328 - accuracy: 0.5907 - val_loss: 1.4693 - val_accuracy: 0.5714\n",
      "Epoch 28/75\n",
      "750/750 [==============================] - 3s 4ms/sample - loss: 1.4329 - accuracy: 0.5920 - val_loss: 1.4694 - val_accuracy: 0.5714\n",
      "Epoch 29/75\n",
      "750/750 [==============================] - 3s 4ms/sample - loss: 1.4216 - accuracy: 0.5920 - val_loss: 1.4713 - val_accuracy: 0.5714\n",
      "Epoch 30/75\n",
      "750/750 [==============================] - 3s 4ms/sample - loss: 1.4258 - accuracy: 0.5920 - val_loss: 1.4703 - val_accuracy: 0.5714\n",
      "Epoch 31/75\n",
      "750/750 [==============================] - 3s 4ms/sample - loss: 1.4245 - accuracy: 0.5893 - val_loss: 1.4700 - val_accuracy: 0.5714\n",
      "Epoch 32/75\n",
      "750/750 [==============================] - 3s 4ms/sample - loss: 1.4270 - accuracy: 0.5920 - val_loss: 1.4704 - val_accuracy: 0.5714\n",
      "Epoch 33/75\n",
      "750/750 [==============================] - 3s 4ms/sample - loss: 1.4227 - accuracy: 0.5933 - val_loss: 1.4657 - val_accuracy: 0.5714\n",
      "Epoch 34/75\n",
      "750/750 [==============================] - 3s 4ms/sample - loss: 1.4142 - accuracy: 0.5920 - val_loss: 1.4676 - val_accuracy: 0.5714\n",
      "Epoch 35/75\n",
      "750/750 [==============================] - 3s 4ms/sample - loss: 1.4151 - accuracy: 0.5920 - val_loss: 1.4674 - val_accuracy: 0.5714\n",
      "Epoch 36/75\n",
      "750/750 [==============================] - 3s 4ms/sample - loss: 1.4050 - accuracy: 0.5920 - val_loss: 1.4682 - val_accuracy: 0.5714\n",
      "Epoch 37/75\n",
      "750/750 [==============================] - 3s 4ms/sample - loss: 1.4144 - accuracy: 0.5920 - val_loss: 1.4667 - val_accuracy: 0.5714\n",
      "Epoch 38/75\n",
      "750/750 [==============================] - 3s 4ms/sample - loss: 1.4173 - accuracy: 0.5920 - val_loss: 1.4660 - val_accuracy: 0.5714\n",
      "Epoch 39/75\n",
      "750/750 [==============================] - 3s 4ms/sample - loss: 1.4274 - accuracy: 0.5920 - val_loss: 1.4655 - val_accuracy: 0.5714\n",
      "Epoch 40/75\n",
      "750/750 [==============================] - 3s 4ms/sample - loss: 1.4041 - accuracy: 0.5920 - val_loss: 1.4604 - val_accuracy: 0.5714\n",
      "Epoch 41/75\n",
      "750/750 [==============================] - 3s 4ms/sample - loss: 1.3990 - accuracy: 0.5920 - val_loss: 1.4625 - val_accuracy: 0.5714\n",
      "Epoch 42/75\n",
      "750/750 [==============================] - 3s 4ms/sample - loss: 1.4136 - accuracy: 0.5920 - val_loss: 1.4594 - val_accuracy: 0.5714\n",
      "Epoch 43/75\n",
      "750/750 [==============================] - 3s 4ms/sample - loss: 1.4273 - accuracy: 0.5920 - val_loss: 1.4605 - val_accuracy: 0.5714\n",
      "Epoch 44/75\n",
      "750/750 [==============================] - 3s 4ms/sample - loss: 1.4098 - accuracy: 0.5920 - val_loss: 1.4630 - val_accuracy: 0.5714\n",
      "Epoch 45/75\n",
      "750/750 [==============================] - 3s 4ms/sample - loss: 1.3957 - accuracy: 0.5920 - val_loss: 1.4616 - val_accuracy: 0.5714\n",
      "Epoch 46/75\n",
      "750/750 [==============================] - 3s 4ms/sample - loss: 1.4135 - accuracy: 0.5920 - val_loss: 1.4597 - val_accuracy: 0.5714\n",
      "Epoch 47/75\n",
      "750/750 [==============================] - 3s 4ms/sample - loss: 1.4136 - accuracy: 0.5920 - val_loss: 1.4605 - val_accuracy: 0.5714\n",
      "Epoch 48/75\n",
      "750/750 [==============================] - 3s 4ms/sample - loss: 1.4103 - accuracy: 0.5920 - val_loss: 1.4607 - val_accuracy: 0.5714\n",
      "Epoch 49/75\n",
      "750/750 [==============================] - 3s 4ms/sample - loss: 1.4127 - accuracy: 0.5920 - val_loss: 1.4585 - val_accuracy: 0.5714\n",
      "Epoch 50/75\n",
      "750/750 [==============================] - 3s 4ms/sample - loss: 1.4126 - accuracy: 0.5920 - val_loss: 1.4613 - val_accuracy: 0.5714\n",
      "Epoch 51/75\n",
      "750/750 [==============================] - 3s 4ms/sample - loss: 1.4067 - accuracy: 0.5920 - val_loss: 1.4592 - val_accuracy: 0.5714\n",
      "Epoch 52/75\n",
      "750/750 [==============================] - 3s 4ms/sample - loss: 1.4118 - accuracy: 0.5920 - val_loss: 1.4579 - val_accuracy: 0.5714\n",
      "Epoch 53/75\n",
      "750/750 [==============================] - 3s 4ms/sample - loss: 1.4065 - accuracy: 0.5920 - val_loss: 1.4586 - val_accuracy: 0.5714\n",
      "Epoch 54/75\n",
      "750/750 [==============================] - 3s 4ms/sample - loss: 1.4159 - accuracy: 0.5920 - val_loss: 1.4591 - val_accuracy: 0.5714\n",
      "Epoch 55/75\n",
      "750/750 [==============================] - 3s 4ms/sample - loss: 1.4096 - accuracy: 0.5920 - val_loss: 1.4615 - val_accuracy: 0.5714\n",
      "Epoch 56/75\n",
      "750/750 [==============================] - 3s 4ms/sample - loss: 1.3872 - accuracy: 0.5920 - val_loss: 1.4572 - val_accuracy: 0.5714\n",
      "Epoch 57/75\n",
      "750/750 [==============================] - 3s 4ms/sample - loss: 1.4053 - accuracy: 0.5920 - val_loss: 1.4608 - val_accuracy: 0.5714\n",
      "Epoch 58/75\n",
      "750/750 [==============================] - 3s 4ms/sample - loss: 1.4058 - accuracy: 0.5920 - val_loss: 1.4596 - val_accuracy: 0.5714\n",
      "Epoch 59/75\n",
      "750/750 [==============================] - 3s 4ms/sample - loss: 1.4020 - accuracy: 0.5920 - val_loss: 1.4601 - val_accuracy: 0.5714\n",
      "Epoch 60/75\n",
      "750/750 [==============================] - 2s 2ms/sample - loss: 1.4026 - accuracy: 0.5920 - val_loss: 1.4621 - val_accuracy: 0.5714\n",
      "Epoch 61/75\n",
      "750/750 [==============================] - 2s 3ms/sample - loss: 1.3950 - accuracy: 0.5920 - val_loss: 1.4610 - val_accuracy: 0.5714\n",
      "Epoch 62/75\n",
      "750/750 [==============================] - 2s 2ms/sample - loss: 1.3953 - accuracy: 0.5920 - val_loss: 1.4608 - val_accuracy: 0.5714\n",
      "Epoch 63/75\n",
      "750/750 [==============================] - 2s 3ms/sample - loss: 1.3959 - accuracy: 0.5920 - val_loss: 1.4604 - val_accuracy: 0.5714\n",
      "Epoch 64/75\n",
      "750/750 [==============================] - 2s 2ms/sample - loss: 1.3923 - accuracy: 0.5920 - val_loss: 1.4574 - val_accuracy: 0.5714\n",
      "Epoch 65/75\n",
      "750/750 [==============================] - 2s 2ms/sample - loss: 1.4077 - accuracy: 0.5920 - val_loss: 1.4592 - val_accuracy: 0.5714\n",
      "Epoch 66/75\n",
      "750/750 [==============================] - 2s 2ms/sample - loss: 1.3962 - accuracy: 0.5920 - val_loss: 1.4532 - val_accuracy: 0.5714\n",
      "Epoch 67/75\n",
      "750/750 [==============================] - 1s 2ms/sample - loss: 1.4005 - accuracy: 0.5920 - val_loss: 1.4510 - val_accuracy: 0.5714\n",
      "Epoch 68/75\n",
      "750/750 [==============================] - 1s 2ms/sample - loss: 1.3963 - accuracy: 0.5920 - val_loss: 1.4513 - val_accuracy: 0.5714\n",
      "Epoch 69/75\n",
      "750/750 [==============================] - 2s 2ms/sample - loss: 1.3997 - accuracy: 0.5920 - val_loss: 1.4505 - val_accuracy: 0.5739\n",
      "Epoch 70/75\n",
      "750/750 [==============================] - 1s 2ms/sample - loss: 1.4038 - accuracy: 0.5920 - val_loss: 1.4487 - val_accuracy: 0.5739\n",
      "Epoch 71/75\n",
      "750/750 [==============================] - 1s 2ms/sample - loss: 1.4053 - accuracy: 0.5920 - val_loss: 1.4498 - val_accuracy: 0.5739\n",
      "Epoch 72/75\n",
      "750/750 [==============================] - 1s 2ms/sample - loss: 1.4003 - accuracy: 0.5920 - val_loss: 1.4464 - val_accuracy: 0.5739\n",
      "Epoch 73/75\n",
      "750/750 [==============================] - 1s 2ms/sample - loss: 1.4033 - accuracy: 0.5920 - val_loss: 1.4480 - val_accuracy: 0.5739\n",
      "Epoch 74/75\n",
      "750/750 [==============================] - 1s 2ms/sample - loss: 1.4105 - accuracy: 0.5920 - val_loss: 1.4502 - val_accuracy: 0.5739\n",
      "Epoch 75/75\n",
      "750/750 [==============================] - 1s 2ms/sample - loss: 1.4041 - accuracy: 0.5907 - val_loss: 1.4478 - val_accuracy: 0.5714\n"
     ]
    },
    {
     "data": {
      "text/plain": [
       "<tensorflow.python.keras.callbacks.History at 0x7f8788275cd0>"
      ]
     },
     "execution_count": 17,
     "metadata": {},
     "output_type": "execute_result"
    }
   ],
   "source": [
    "# bare bones LSTM\n",
    "lstm = tf.keras.models.Sequential()\n",
    "lstm.add(tf.keras.layers.LSTM(64, return_sequences=True, stateful=False, input_shape = (40,776), activation = 'relu'))\n",
    "lstm.add(tf.keras.layers.BatchNormalization())\n",
    "lstm.add(tf.keras.layers.Dropout(.5))\n",
    "lstm.add(tf.keras.layers.LSTM(32, return_sequences=True, stateful=False, activation='tanh'))\n",
    "lstm.add(tf.keras.layers.Dropout(.5))\n",
    "lstm.add(tf.keras.layers.BatchNormalization())\n",
    "lstm.add(tf.keras.layers.LSTM(16, stateful=False, activation='tanh'))\n",
    "lstm.add(tf.keras.layers.Dropout(.25))\n",
    "lstm.add(tf.keras.layers.Dense(9, activation='softmax'))\n",
    "adam = tf.keras.optimizers.Adam(lr=0.001)\n",
    "lstm.compile(loss='categorical_crossentropy', optimizer=adam, metrics=[\"accuracy\"])\n",
    "lstm.summary()\n",
    "print(\"Train...\")\n",
    "lstm.fit(X_train, y_train, batch_size=batch_size, nb_epoch=75, validation_data=(X_test, y_test))"
   ]
  },
  {
   "cell_type": "code",
   "execution_count": 19,
   "metadata": {},
   "outputs": [
    {
     "ename": "NameError",
     "evalue": "name 'y_pred' is not defined",
     "output_type": "error",
     "traceback": [
      "\u001b[0;31m---------------------------------------------------------------------------\u001b[0m",
      "\u001b[0;31mNameError\u001b[0m                                 Traceback (most recent call last)",
      "\u001b[0;32m<ipython-input-19-aeeea26ac3e4>\u001b[0m in \u001b[0;36m<module>\u001b[0;34m\u001b[0m\n\u001b[0;32m----> 1\u001b[0;31m \u001b[0my_pred_np\u001b[0m \u001b[0;34m=\u001b[0m \u001b[0mnp\u001b[0m\u001b[0;34m.\u001b[0m\u001b[0marray\u001b[0m\u001b[0;34m(\u001b[0m\u001b[0my_pred\u001b[0m\u001b[0;34m)\u001b[0m\u001b[0;34m\u001b[0m\u001b[0;34m\u001b[0m\u001b[0m\n\u001b[0m",
      "\u001b[0;31mNameError\u001b[0m: name 'y_pred' is not defined"
     ]
    }
   ],
   "source": [
    "y_pred_np = np.array(y_pred)"
   ]
  },
  {
   "cell_type": "code",
   "execution_count": null,
   "metadata": {},
   "outputs": [],
   "source": [
    "y_pred_np.shape"
   ]
  }
 ],
 "metadata": {
  "kernelspec": {
   "display_name": "Python 3",
   "language": "python",
   "name": "python3"
  },
  "language_info": {
   "codemirror_mode": {
    "name": "ipython",
    "version": 3
   },
   "file_extension": ".py",
   "mimetype": "text/x-python",
   "name": "python",
   "nbconvert_exporter": "python",
   "pygments_lexer": "ipython3",
   "version": "3.7.4"
  }
 },
 "nbformat": 4,
 "nbformat_minor": 2
}
